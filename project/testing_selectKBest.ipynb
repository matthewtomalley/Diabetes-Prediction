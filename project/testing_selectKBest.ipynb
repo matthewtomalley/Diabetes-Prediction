{
 "cells": [
  {
   "cell_type": "code",
   "execution_count": 1,
   "metadata": {},
   "outputs": [],
   "source": [
    "import os\n",
    "import pandas as pd\n",
    "import matplotlib.pyplot as plt\n",
    "import seaborn as sns\n",
    "from sklearn.model_selection import train_test_split, GridSearchCV\n",
    "from sklearn.feature_selection import SelectKBest\n",
    "from sklearn.tree import DecisionTreeClassifier, DecisionTreeRegressor, plot_tree\n",
    "from sklearn import tree\n",
    "from sklearn.metrics import mean_squared_error, root_mean_squared_error, r2_score, confusion_matrix\n",
    "from sklearn.metrics import accuracy_score, precision_score, recall_score, f1_score#, confusion_matrix, ConfusionMatrixDisplay\n",
    "from pickle import dump"
   ]
  },
  {
   "cell_type": "code",
   "execution_count": 2,
   "metadata": {},
   "outputs": [],
   "source": [
    "data = pd.read_csv('https://raw.githubusercontent.com/4GeeksAcademy/decision-tree-project-tutorial/main/diabetes.csv')\n",
    "\n",
    "features = data.columns.tolist()\n",
    "features.remove('Outcome')\n",
    "target = 'Outcome'\n",
    "\n",
    "X = data[features]\n",
    "y = data[target]\n",
    "\n",
    "X_train, X_test, y_train, y_test = train_test_split(X, y, test_size=0.2, random_state=42)"
   ]
  },
  {
   "cell_type": "code",
   "execution_count": 4,
   "metadata": {},
   "outputs": [
    {
     "data": {
      "text/html": [
       "<div>\n",
       "<style scoped>\n",
       "    .dataframe tbody tr th:only-of-type {\n",
       "        vertical-align: middle;\n",
       "    }\n",
       "\n",
       "    .dataframe tbody tr th {\n",
       "        vertical-align: top;\n",
       "    }\n",
       "\n",
       "    .dataframe thead th {\n",
       "        text-align: right;\n",
       "    }\n",
       "</style>\n",
       "<table border=\"1\" class=\"dataframe\">\n",
       "  <thead>\n",
       "    <tr style=\"text-align: right;\">\n",
       "      <th></th>\n",
       "      <th>Feature</th>\n",
       "      <th>Score</th>\n",
       "      <th>P-Value</th>\n",
       "    </tr>\n",
       "  </thead>\n",
       "  <tbody>\n",
       "    <tr>\n",
       "      <th>0</th>\n",
       "      <td>Pregnancies</td>\n",
       "      <td>27.550001</td>\n",
       "      <td>2.113983e-07</td>\n",
       "    </tr>\n",
       "    <tr>\n",
       "      <th>1</th>\n",
       "      <td>Glucose</td>\n",
       "      <td>160.769030</td>\n",
       "      <td>7.069402e-33</td>\n",
       "    </tr>\n",
       "    <tr>\n",
       "      <th>2</th>\n",
       "      <td>BloodPressure</td>\n",
       "      <td>4.147608</td>\n",
       "      <td>4.212330e-02</td>\n",
       "    </tr>\n",
       "    <tr>\n",
       "      <th>3</th>\n",
       "      <td>SkinThickness</td>\n",
       "      <td>2.059429</td>\n",
       "      <td>1.517777e-01</td>\n",
       "    </tr>\n",
       "    <tr>\n",
       "      <th>4</th>\n",
       "      <td>Insulin</td>\n",
       "      <td>7.290108</td>\n",
       "      <td>7.125260e-03</td>\n",
       "    </tr>\n",
       "    <tr>\n",
       "      <th>5</th>\n",
       "      <td>BMI</td>\n",
       "      <td>63.378414</td>\n",
       "      <td>8.319708e-15</td>\n",
       "    </tr>\n",
       "    <tr>\n",
       "      <th>6</th>\n",
       "      <td>DiabetesPedigreeFunction</td>\n",
       "      <td>14.977704</td>\n",
       "      <td>1.204708e-04</td>\n",
       "    </tr>\n",
       "    <tr>\n",
       "      <th>7</th>\n",
       "      <td>Age</td>\n",
       "      <td>52.326951</td>\n",
       "      <td>1.410539e-12</td>\n",
       "    </tr>\n",
       "  </tbody>\n",
       "</table>\n",
       "</div>"
      ],
      "text/plain": [
       "                    Feature       Score       P-Value\n",
       "0               Pregnancies   27.550001  2.113983e-07\n",
       "1                   Glucose  160.769030  7.069402e-33\n",
       "2             BloodPressure    4.147608  4.212330e-02\n",
       "3             SkinThickness    2.059429  1.517777e-01\n",
       "4                   Insulin    7.290108  7.125260e-03\n",
       "5                       BMI   63.378414  8.319708e-15\n",
       "6  DiabetesPedigreeFunction   14.977704  1.204708e-04\n",
       "7                       Age   52.326951  1.410539e-12"
      ]
     },
     "execution_count": 4,
     "metadata": {},
     "output_type": "execute_result"
    }
   ],
   "source": [
    "from sklearn.feature_selection import SelectKBest, f_classif\n",
    "\n",
    "# we'll use later\n",
    "feature_names = X.columns\n",
    "\n",
    "# create a SelectKBest object and select ALL the features\n",
    "selector = SelectKBest(score_func=f_classif, k=X.shape[1])\n",
    "\n",
    "# fit the selector to the training data\n",
    "selector.fit(X_train, y_train)\n",
    "\n",
    "# transform the training and test data to select the top K features\n",
    "X_train_selected = selector.transform(X_train)\n",
    "X_test_selected = selector.transform(X_test)\n",
    "\n",
    "# extract the selected features\n",
    "# with this implementation is all of them\n",
    "selected_features_idx = selector.get_support(indices=True)\n",
    "selected_feature_names = feature_names[selected_features_idx]\n",
    "\n",
    "# extract the scores of the selected features\n",
    "feature_scores = selector.scores_\n",
    "\n",
    "# extract the p-values of the selected features\n",
    "feature_pvalues = selector.pvalues_\n",
    "\n",
    "# create a DataFrame to summarize the feature selection results\n",
    "feature_summary = pd.DataFrame({\n",
    "    'Feature': feature_names,\n",
    "    'Score': feature_scores,\n",
    "    'P-Value': feature_pvalues\n",
    "})\n",
    "\n",
    "# sort the DataFrame by score in descending order\n",
    "feature_summary = feature_summary.sort_values(by='Score', ascending=False)\n",
    "feature_summary.sort_index()"
   ]
  },
  {
   "cell_type": "code",
   "execution_count": 5,
   "metadata": {},
   "outputs": [
    {
     "data": {
      "text/plain": [
       "Index(['Pregnancies', 'Glucose', 'BloodPressure', 'SkinThickness', 'Insulin',\n",
       "       'BMI', 'DiabetesPedigreeFunction', 'Age'],\n",
       "      dtype='object')"
      ]
     },
     "execution_count": 5,
     "metadata": {},
     "output_type": "execute_result"
    }
   ],
   "source": [
    "selected_feature_names"
   ]
  }
 ],
 "metadata": {
  "kernelspec": {
   "display_name": "Python 3",
   "language": "python",
   "name": "python3"
  },
  "language_info": {
   "codemirror_mode": {
    "name": "ipython",
    "version": 3
   },
   "file_extension": ".py",
   "mimetype": "text/x-python",
   "name": "python",
   "nbconvert_exporter": "python",
   "pygments_lexer": "ipython3",
   "version": "3.12.1"
  }
 },
 "nbformat": 4,
 "nbformat_minor": 2
}
